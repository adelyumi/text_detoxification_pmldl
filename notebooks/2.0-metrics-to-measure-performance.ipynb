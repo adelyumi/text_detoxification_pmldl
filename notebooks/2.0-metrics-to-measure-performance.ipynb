{
 "cells": [
  {
   "cell_type": "markdown",
   "id": "43ed5afa",
   "metadata": {},
   "source": [
    "# Metrics I will use to measure solutions performance\n",
    "The goal of this notebook is to define which metrics to use to measure the performance of the solutions I made."
   ]
  },
  {
   "cell_type": "markdown",
   "id": "e8b11881",
   "metadata": {},
   "source": [
    "## Toxicity value\n",
    "\n",
    "### Detoxify\n",
    "\n",
    "https://pypi.org/project/detoxify/"
   ]
  },
  {
   "cell_type": "code",
   "execution_count": null,
   "id": "3a6caa50",
   "metadata": {},
   "outputs": [],
   "source": [
    "# ! pip install detoxify"
   ]
  },
  {
   "cell_type": "code",
   "execution_count": 7,
   "id": "fa60ceca",
   "metadata": {},
   "outputs": [
    {
     "data": {
      "text/html": [
       "<div>\n",
       "<style scoped>\n",
       "    .dataframe tbody tr th:only-of-type {\n",
       "        vertical-align: middle;\n",
       "    }\n",
       "\n",
       "    .dataframe tbody tr th {\n",
       "        vertical-align: top;\n",
       "    }\n",
       "\n",
       "    .dataframe thead th {\n",
       "        text-align: right;\n",
       "    }\n",
       "</style>\n",
       "<table border=\"1\" class=\"dataframe\">\n",
       "  <thead>\n",
       "    <tr style=\"text-align: right;\">\n",
       "      <th></th>\n",
       "      <th>reference</th>\n",
       "      <th>translation</th>\n",
       "    </tr>\n",
       "  </thead>\n",
       "  <tbody>\n",
       "    <tr>\n",
       "      <th>0</th>\n",
       "      <td>Fucking A your mom likes lan.</td>\n",
       "      <td>my mom loves you.</td>\n",
       "    </tr>\n",
       "    <tr>\n",
       "      <th>1</th>\n",
       "      <td>We'll be fucking pariahs.</td>\n",
       "      <td>we're going to be completely unnerved.</td>\n",
       "    </tr>\n",
       "    <tr>\n",
       "      <th>2</th>\n",
       "      <td>I'm done, Live Dead.</td>\n",
       "      <td>I'm through, Dead Meat.</td>\n",
       "    </tr>\n",
       "    <tr>\n",
       "      <th>3</th>\n",
       "      <td>What is this place? A fucking vampire secret h...</td>\n",
       "      <td>that's a secret vampire headquarters.</td>\n",
       "    </tr>\n",
       "    <tr>\n",
       "      <th>4</th>\n",
       "      <td>Just a silly dream and nothing more</td>\n",
       "      <td># Just a silky dream and nothing more</td>\n",
       "    </tr>\n",
       "  </tbody>\n",
       "</table>\n",
       "</div>"
      ],
      "text/plain": [
       "                                           reference  \\\n",
       "0                      Fucking A your mom likes lan.   \n",
       "1                          We'll be fucking pariahs.   \n",
       "2                               I'm done, Live Dead.   \n",
       "3  What is this place? A fucking vampire secret h...   \n",
       "4                Just a silly dream and nothing more   \n",
       "\n",
       "                              translation  \n",
       "0                       my mom loves you.  \n",
       "1  we're going to be completely unnerved.  \n",
       "2                 I'm through, Dead Meat.  \n",
       "3   that's a secret vampire headquarters.  \n",
       "4   # Just a silky dream and nothing more  "
      ]
     },
     "execution_count": 7,
     "metadata": {},
     "output_type": "execute_result"
    }
   ],
   "source": [
    "import pandas as pd\n",
    "\n",
    "data = pd.read_csv('../data/interim/test.csv')\n",
    "data.head()"
   ]
  },
  {
   "cell_type": "code",
   "execution_count": 8,
   "id": "14631c20",
   "metadata": {},
   "outputs": [],
   "source": [
    "from detoxify import Detoxify\n",
    "\n",
    "results = Detoxify('unbiased').predict(data['reference'][4])"
   ]
  },
  {
   "cell_type": "code",
   "execution_count": 9,
   "id": "8b377015",
   "metadata": {},
   "outputs": [
    {
     "data": {
      "text/plain": [
       "0.65598243"
      ]
     },
     "execution_count": 9,
     "metadata": {},
     "output_type": "execute_result"
    }
   ],
   "source": [
    "results['toxicity']"
   ]
  },
  {
   "cell_type": "code",
   "execution_count": 37,
   "id": "3b689883",
   "metadata": {},
   "outputs": [],
   "source": [
    "results = Detoxify('original').predict(data['reference'][4])"
   ]
  },
  {
   "cell_type": "code",
   "execution_count": 39,
   "id": "c287993b",
   "metadata": {},
   "outputs": [
    {
     "data": {
      "text/plain": [
       "0.12325273"
      ]
     },
     "execution_count": 39,
     "metadata": {},
     "output_type": "execute_result"
    }
   ],
   "source": [
    "results['toxicity']"
   ]
  },
  {
   "cell_type": "markdown",
   "id": "9a37bfaa",
   "metadata": {},
   "source": [
    "Unbiased seems more precise to me."
   ]
  },
  {
   "cell_type": "code",
   "execution_count": 43,
   "id": "ac0ca8e7",
   "metadata": {},
   "outputs": [],
   "source": [
    "X = list(data.reference[0:200])\n",
    "y = list(data.translation[0:200])"
   ]
  },
  {
   "cell_type": "code",
   "execution_count": 44,
   "id": "5b87505d",
   "metadata": {},
   "outputs": [],
   "source": [
    "ref_tox = Detoxify('unbiased').predict(X)\n",
    "trn_tox = Detoxify('unbiased').predict(y)"
   ]
  },
  {
   "cell_type": "code",
   "execution_count": 47,
   "id": "2051f3dc",
   "metadata": {},
   "outputs": [
    {
     "data": {
      "image/png": "[encoded data removed]",
      "text/plain": [
       "<Figure size 1100x500 with 2 Axes>"
      ]
     },
     "metadata": {},
     "output_type": "display_data"
    }
   ],
   "source": [
    "import matplotlib.pyplot as plt\n",
    "\n",
    "fig, (ax1, ax2) = plt.subplots(1, 2, figsize=(11, 5))\n",
    "fig.suptitle('Toxicity levels')\n",
    "\n",
    "ax1.hist(ref_tox['toxicity'])\n",
    "ax1.set_title('Reference toxicity')\n",
    "ax2.hist(trn_tox['toxicity'])\n",
    "ax2.set_title('Translation toxicity')\n",
    "plt.show()"
   ]
  },
  {
   "cell_type": "markdown",
   "id": "234424a6",
   "metadata": {},
   "source": [
    "Not as accurate as the original data, but enough to determine if the algorithms work. However, the algorithm takes a very long time to run and predicting the entire test set takes for about 3 hours."
   ]
  },
  {
   "cell_type": "markdown",
   "id": "377e6117",
   "metadata": {},
   "source": [
    "I tried other ways, but they worked just as long or were outdated, so I'll stick with this metric, but will only measure the coefficient on a some part of the data."
   ]
  },
  {
   "cell_type": "code",
   "execution_count": 12,
   "id": "7a563732",
   "metadata": {},
   "outputs": [
    {
     "name": "stderr",
     "output_type": "stream",
     "text": [
      "100%|██████████████████████████████████████████████████████████████████████████████| 2000/2000 [04:38<00:00,  7.19it/s]"
     ]
    },
    {
     "name": "stdout",
     "output_type": "stream",
     "text": [
      "Approximate toxicity of reference: 0.7367349886898883\n"
     ]
    },
    {
     "name": "stderr",
     "output_type": "stream",
     "text": [
      "\n"
     ]
    }
   ],
   "source": [
    "from tqdm import tqdm\n",
    "\n",
    "size = 2000\n",
    "tox_values = []\n",
    "detox = Detoxify('unbiased')\n",
    "\n",
    "for i in tqdm(range(size)):\n",
    "    tox_values.append(detox.predict(data.reference[i])['toxicity'])\n",
    "    \n",
    "print('Approximate toxicity of reference:', sum(tox_values) / len(tox_values))"
   ]
  },
  {
   "cell_type": "code",
   "execution_count": 13,
   "id": "2ff76058",
   "metadata": {},
   "outputs": [
    {
     "name": "stderr",
     "output_type": "stream",
     "text": [
      "100%|██████████████████████████████████████████████████████████████████████████████| 2000/2000 [04:10<00:00,  7.98it/s]"
     ]
    },
    {
     "name": "stdout",
     "output_type": "stream",
     "text": [
      "Approximate toxicity of translation: 0.16164738804452644\n"
     ]
    },
    {
     "name": "stderr",
     "output_type": "stream",
     "text": [
      "\n"
     ]
    }
   ],
   "source": [
    "from tqdm import tqdm\n",
    "\n",
    "size = 2000\n",
    "tox_values = []\n",
    "detox = Detoxify('unbiased')\n",
    "\n",
    "for i in tqdm(range(size)):\n",
    "    tox_values.append(detox.predict(data.translation[i])['toxicity'])\n",
    "    \n",
    "print('Approximate toxicity of translation:', sum(tox_values) / len(tox_values))"
   ]
  },
  {
   "cell_type": "markdown",
   "id": "0cf9cc26",
   "metadata": {},
   "source": [
    "So, the toxicity value in the dataset was reduced from 0.737 to 0.162"
   ]
  },
  {
   "cell_type": "markdown",
   "id": "61f4a474",
   "metadata": {},
   "source": [
    "## Similarity value\n",
    "As given in the dataset, I will use **cosine similarity** to compare the two texts."
   ]
  },
  {
   "cell_type": "code",
   "execution_count": 5,
   "id": "180529e7",
   "metadata": {},
   "outputs": [],
   "source": [
    "from sklearn.feature_extraction.text import CountVectorizer\n",
    "from sklearn.metrics.pairwise import cosine_similarity\n",
    "\n",
    "texts = [data.reference[4], data.translation[4]]\n",
    "\n",
    "count_vectorizer = CountVectorizer(token_pattern=r\"(?u)\\b\\w+\\b\")\n",
    "vector_matrix = count_vectorizer.fit_transform(texts)\n",
    "\n",
    "cosine_similarity_matrix = cosine_similarity(vector_matrix)"
   ]
  },
  {
   "cell_type": "code",
   "execution_count": 6,
   "id": "6ed8ff18",
   "metadata": {},
   "outputs": [
    {
     "data": {
      "text/plain": [
       "['Just a silly dream and nothing more',\n",
       " '# Just a silky dream and nothing more']"
      ]
     },
     "execution_count": 6,
     "metadata": {},
     "output_type": "execute_result"
    }
   ],
   "source": [
    "texts"
   ]
  },
  {
   "cell_type": "code",
   "execution_count": 7,
   "id": "021c6f30",
   "metadata": {},
   "outputs": [
    {
     "data": {
      "text/plain": [
       "array([[1.        , 0.85714286],\n",
       "       [0.85714286, 1.        ]])"
      ]
     },
     "execution_count": 7,
     "metadata": {},
     "output_type": "execute_result"
    }
   ],
   "source": [
    "cosine_similarity_matrix"
   ]
  },
  {
   "cell_type": "code",
   "execution_count": 8,
   "id": "52bb98ff",
   "metadata": {},
   "outputs": [
    {
     "name": "stderr",
     "output_type": "stream",
     "text": [
      "100%|███████████████████████████████████████████████████████████████████████████| 85352/85352 [02:28<00:00, 573.75it/s]"
     ]
    },
    {
     "name": "stdout",
     "output_type": "stream",
     "text": [
      "Average similarity: 0.618790799939764\n"
     ]
    },
    {
     "name": "stderr",
     "output_type": "stream",
     "text": [
      "\n"
     ]
    }
   ],
   "source": [
    "from tqdm import tqdm \n",
    "\n",
    "cosine_sims = []\n",
    "\n",
    "for i in tqdm(range(len(data))):\n",
    "    texts = [data.reference[i], data.translation[i]]\n",
    "    vector_matrix = count_vectorizer.fit_transform(texts)\n",
    "\n",
    "    cosine_sims.append(cosine_similarity(vector_matrix)[0][1])\n",
    "    \n",
    "print(\"Average similarity:\", sum(cosine_sims) / len(cosine_sims))"
   ]
  },
  {
   "cell_type": "markdown",
   "id": "88eccffc",
   "metadata": {},
   "source": [
    "## Conclusions\n",
    "1. Approximate toxicity of the reference in the test data is 0.737\n",
    "2. Approximate toxicity of the translation in the test data is 0.162\n",
    "3. Average similarity of the test data is 0.619\n",
    "\n",
    "I will use these metrics to compare performances of other algorithms."
   ]
  },
  {
   "cell_type": "code",
   "execution_count": null,
   "id": "26319fdd",
   "metadata": {},
   "outputs": [],
   "source": []
  }
 ],
 "metadata": {
  "kernelspec": {
   "display_name": "Python 3 (ipykernel)",
   "language": "python",
   "name": "python3"
  },
  "language_info": {
   "codemirror_mode": {
    "name": "ipython",
    "version": 3
   },
   "file_extension": ".py",
   "mimetype": "text/x-python",
   "name": "python",
   "nbconvert_exporter": "python",
   "pygments_lexer": "ipython3",
   "version": "3.9.2"
  }
 },
 "nbformat": 4,
 "nbformat_minor": 5
}
